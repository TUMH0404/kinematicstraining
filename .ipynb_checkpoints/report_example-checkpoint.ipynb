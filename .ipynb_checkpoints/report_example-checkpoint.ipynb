{
 "cells": [
  {
   "cell_type": "markdown",
   "metadata": {
    "toc": true
   },
   "source": [
    "<h1>重心動揺計を用いた身体計測<span class=\"tocSkip\"></span></h1>\n",
    "<div class=\"toc\"><ul class=\"toc-item\"><li><span><a href=\"#はじめに\" data-toc-modified-id=\"はじめに-0\">はじめに</a></span></li><li><span><a href=\"#計測方法\" data-toc-modified-id=\"計測方法-1\">計測方法</a></span><ul class=\"toc-item\"><li><span><a href=\"#対象\" data-toc-modified-id=\"対象-1.1\">対象</a></span></li><li><span><a href=\"#計測方法\" data-toc-modified-id=\"計測方法-1.2\">計測方法</a></span></li></ul></li><li><span><a href=\"#計測結果\" data-toc-modified-id=\"計測結果-2\">計測結果</a></span></li><li><span><a href=\"#考察\" data-toc-modified-id=\"考察-3\">考察</a></span></li></ul></div>"
   ]
  },
  {
   "cell_type": "markdown",
   "metadata": {},
   "source": [
    "## はじめに\n",
    " 文中の文字を強調したいときは**このように**書く。色を変えたいときは<font color=\"red\">このように</font>書く。<br>\n",
    " 重心動揺計とは，足圧中心点の動きを経時的に計測し，その動きの様子から前庭，視覚などの障害の判断の材料になる検査方法である。重心動揺計による計測では診療報酬の算定が可能であり，臨床における有用性はあることがわかる。<br>\n",
    " ここでは，重心動揺計の原理について運動学的な面から解析，考察し，臨床応用につなげることを目的とし，以下の通りレポートとしてまとめる。<br>"
   ]
  },
  {
   "cell_type": "markdown",
   "metadata": {},
   "source": [
    "## 計測方法\n",
    "\n",
    "\n",
    "\n",
    "\n"
   ]
  },
  {
   "cell_type": "markdown",
   "metadata": {},
   "source": [
    "### 対象\n",
    "年齢20歳の健常成人１名とした。"
   ]
  },
  {
   "cell_type": "markdown",
   "metadata": {},
   "source": [
    "### 計測方法\n",
    "重心動揺計測器（アニマ社製）を用いた。サンプリング周波数は100Hzである。プレートの上で両足を揃えた立位姿勢を保持し，開眼による計測を30秒，閉眼による計測を30秒間おこなった。計測したデータをテキスト形式でコンピュータに保存し，そのデータから以下の処理をpythonで施した。<br>\n",
    "\n",
    "> 1.テキストで保存されたデータの整理<br>\n",
    "> 2.計測開始後5秒から26秒のデータフレームを作成(データ数:2048)<br>\n",
    "> 3.高速フーリエ変換によるノイズ処理<br>\n",
    "> 4.主軸変換<br>\n",
    "> 5.データの表示と確認<br>\n",
    "\n",
    "次に，そのデータから矩形面積と総軌跡長を求め，開眼時と閉眼時の計測の動揺の違いについて比較した。"
   ]
  },
  {
   "cell_type": "markdown",
   "metadata": {},
   "source": [
    "## 計測結果\n",
    "\n",
    "|／|矩形面積|総軌跡長|\n",
    "|----|-----|-------|\n",
    "|開眼|0|0|\n",
    "|閉眼|0|0|\n",
    "\n",
    "> [開眼時の図](result.png)<br>\n",
    "\n",
    "> [閉眼時の図](20180302_8.csv)<br>\n",
    "\n"
   ]
  },
  {
   "cell_type": "markdown",
   "metadata": {},
   "source": [
    "## 考察"
   ]
  },
  {
   "cell_type": "code",
   "execution_count": null,
   "metadata": {},
   "outputs": [],
   "source": []
  }
 ],
 "metadata": {
  "hide_input": false,
  "kernelspec": {
   "display_name": "Python 3",
   "language": "python",
   "name": "python3"
  },
  "language_info": {
   "codemirror_mode": {
    "name": "ipython",
    "version": 3
   },
   "file_extension": ".py",
   "mimetype": "text/x-python",
   "name": "python",
   "nbconvert_exporter": "python",
   "pygments_lexer": "ipython3",
   "version": "3.6.8"
  },
  "toc": {
   "base_numbering": "",
   "nav_menu": {},
   "number_sections": false,
   "sideBar": true,
   "skip_h1_title": false,
   "title_cell": "重心動揺計を用いた身体計測",
   "title_sidebar": "Contents",
   "toc_cell": true,
   "toc_position": {},
   "toc_section_display": true,
   "toc_window_display": true
  }
 },
 "nbformat": 4,
 "nbformat_minor": 2
}
