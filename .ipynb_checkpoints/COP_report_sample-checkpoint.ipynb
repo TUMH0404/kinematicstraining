{
 "cells": [
  {
   "cell_type": "markdown",
   "metadata": {
    "toc": true
   },
   "source": [
    "<h1>立位時における重心動揺計を用いた身体動揺の計測<span class=\"tocSkip\"></span></h1>\n",
    "<div class=\"toc\"><ul class=\"toc-item\"><li><span><a href=\"#はじめに\" data-toc-modified-id=\"はじめに-0\">はじめに</a></span></li><li><span><a href=\"#計測方法\" data-toc-modified-id=\"計測方法-1\">計測方法</a></span><ul class=\"toc-item\"><li><span><a href=\"#対象\" data-toc-modified-id=\"対象-1.1\">対象</a></span></li><li><span><a href=\"#計測方法\" data-toc-modified-id=\"計測方法-1.2\">計測方法</a></span></li></ul></li><li><span><a href=\"#解析\" data-toc-modified-id=\"解析-2\">解析</a></span><ul class=\"toc-item\"><li><span><a href=\"#重心動揺計に10kgの錘をのせた計測\" data-toc-modified-id=\"重心動揺計に10kgの錘をのせた計測-2.1\">重心動揺計に10kgの錘をのせた計測</a></span></li><li><span><a href=\"#重心動揺計の読み込みと解析\" data-toc-modified-id=\"重心動揺計の読み込みと解析-2.2\">重心動揺計の読み込みと解析</a></span></li><li><span><a href=\"#総軌跡長\" data-toc-modified-id=\"総軌跡長-2.3\">総軌跡長</a></span></li><li><span><a href=\"#矩形面積\" data-toc-modified-id=\"矩形面積-2.4\">矩形面積</a></span></li></ul></li><li><span><a href=\"#計測結果のまとめ\" data-toc-modified-id=\"計測結果のまとめ-3\">計測結果のまとめ<br></a></span></li><li><span><a href=\"#考察\" data-toc-modified-id=\"考察-4\">考察</a></span></li></ul></div>"
   ]
  },
  {
   "cell_type": "markdown",
   "metadata": {},
   "source": [
    "## はじめに\n",
    " <font color=\"blue\">『ここは自分で書きましょう。他の人と相談して書いて良い』</font> <br>文中の文字を強調したいときは**このように**書く。色を変えたいときは<font color=\"red\">このように</font>書く。<br>\n",
    " 重心動揺計とは，足圧中心点の動きを経時的に計測し，その動きの様子から前庭，視覚などの障害の判断の材料になる検査方法である。重心動揺計による計測では診療報酬の算定が可能であり，臨床における有用性はあることがわかる。<br>\n",
    " ここでは，重心動揺計の原理について運動学的な面から解析，考察し，臨床応用につなげることを目的とし，以下の通りレポートとしてまとめる。<br>"
   ]
  },
  {
   "cell_type": "markdown",
   "metadata": {},
   "source": [
    "## 計測方法\n",
    "\n",
    "\n",
    "\n",
    "\n"
   ]
  },
  {
   "cell_type": "markdown",
   "metadata": {},
   "source": [
    "### 対象\n",
    "年齢20歳の健常成人１名とした。"
   ]
  },
  {
   "cell_type": "markdown",
   "metadata": {},
   "source": [
    "### 計測方法\n",
    "重心動揺計測器（アニマ社製）を用いた。サンプリング周波数は100Hzである。プレートの上で両足を揃えた立位姿勢を保持し，開眼による計測を30秒，閉眼による計測を30秒間おこなった。計測したデータをテキスト形式でコンピュータに保存し，そのデータから以下の処理をpythonで施した。<br>\n",
    "\n",
    "> 1.テキスト保存されたデータの読み込みと整理<br>\n",
    "*ノイズ処理をする。*<br>\n",
    "> 2.(今回はなし)高速フーリエ変換によるノイズ処理<br>\n",
    "> 3.(今回はなし)主軸変換<br>\n",
    "> 4.データの表示と確認<br>\n",
    "\n",
    "次に，そのデータから矩形面積と総軌跡長を求め，開眼時と閉眼時の計測の動揺の違いについて比較した。"
   ]
  },
  {
   "cell_type": "markdown",
   "metadata": {},
   "source": [
    "## 解析"
   ]
  },
  {
   "cell_type": "code",
   "execution_count": null,
   "metadata": {},
   "outputs": [],
   "source": [
    "# ライブラリのインポート\n",
    "import pandas as pd\n",
    "import numpy as np\n",
    "import matplotlib.pyplot as plt\n",
    "%matplotlib inline"
   ]
  },
  {
   "cell_type": "markdown",
   "metadata": {},
   "source": [
    "### 重心動揺計に10kgの錘をのせた計測"
   ]
  },
  {
   "cell_type": "markdown",
   "metadata": {},
   "source": [
    "その理由は，<font color=\"blue\">（ここの欄に自分で記載する）</font>\n",
    "\n",
    "\n",
    "ただし，今回は講義の都合で省略しなくてよい。"
   ]
  },
  {
   "cell_type": "code",
   "execution_count": null,
   "metadata": {},
   "outputs": [],
   "source": [
    "## みなさんがやるところ ##\n",
    "## データの読み込み\n",
    "dat10 = pd.read_csv(\"./Sample/Weight10/pt0419_1.csv\", encoding=\"shift-jis\", skiprows=6)"
   ]
  },
  {
   "cell_type": "code",
   "execution_count": null,
   "metadata": {},
   "outputs": [],
   "source": [
    "dat10.head()"
   ]
  },
  {
   "cell_type": "code",
   "execution_count": null,
   "metadata": {},
   "outputs": [],
   "source": [
    "dat10.tail()"
   ]
  },
  {
   "cell_type": "code",
   "execution_count": null,
   "metadata": {},
   "outputs": [],
   "source": [
    "## 以上で10kgをのせたときの重心動揺計の読み込みは終わり。本来はこのデータを用いて機器の特性を調べなければならない。"
   ]
  },
  {
   "cell_type": "markdown",
   "metadata": {},
   "source": [
    "### 重心動揺計の読み込みと解析\n",
    "\n",
    "<font color=\"blue\"> 以下，自分でやりましょう </font>"
   ]
  },
  {
   "cell_type": "code",
   "execution_count": null,
   "metadata": {},
   "outputs": [],
   "source": [
    "## みなさんがやるところ ##\n",
    "## 開眼のデータを読み込む。\n",
    "dat_OE = pd.read_csv(\"/Users/tumh/Desktop/0515ohnishi/181P090_1.csv\", encoding=\"shift-jis\", skiprows=6)\n",
    "datOEnp = dat_OE.iloc[:,1:3].values\n",
    "datOEv = datOEnp-datOEnp.mean(axis=0)"
   ]
  },
  {
   "cell_type": "code",
   "execution_count": null,
   "metadata": {},
   "outputs": [],
   "source": [
    "## みなさんがやるところ ##\n",
    "## 閉眼のデータを読み込む。\n",
    "dat_CE = pd.read_csv(\"/Users/tumh/Desktop/0515ohnishi/181P090_2.csv\", encoding=\"shift-jis\", skiprows=6)\n",
    "datCEnp = dat_CE.iloc[:,1:3].values\n",
    "datCEv = datCEnp-datCEnp.mean(axis=0)"
   ]
  },
  {
   "cell_type": "code",
   "execution_count": 2,
   "metadata": {},
   "outputs": [],
   "source": [
    "## 2のべき乗のデータ数に調整する\n",
    "def ten2two(a):\n",
    "    bb = []\n",
    "    while 1:\n",
    "        \n",
    "        bb.insert(0,str(a%2))\n",
    "        a = a//2\n",
    "        \n",
    "        if a==0:\n",
    "            break\n",
    "    \n",
    "    return \"\".join(bb)"
   ]
  },
  {
   "cell_type": "code",
   "execution_count": 10,
   "metadata": {},
   "outputs": [
    {
     "data": {
      "text/plain": [
       "11"
      ]
     },
     "execution_count": 10,
     "metadata": {},
     "output_type": "execute_result"
    }
   ],
   "source": [
    "len(bin(1200)[2:])"
   ]
  },
  {
   "cell_type": "code",
   "execution_count": 6,
   "metadata": {},
   "outputs": [
    {
     "data": {
      "text/plain": [
       "1024"
      ]
     },
     "execution_count": 6,
     "metadata": {},
     "output_type": "execute_result"
    }
   ],
   "source": [
    "2**10"
   ]
  },
  {
   "cell_type": "code",
   "execution_count": null,
   "metadata": {},
   "outputs": [],
   "source": [
    "## 波数の決定\n",
    "ww = int(3001*10/(1/0.01)) "
   ]
  },
  {
   "cell_type": "code",
   "execution_count": 1,
   "metadata": {},
   "outputs": [],
   "source": [
    "## フィルタリング\n",
    "def FFT(a,wave,bias):\n",
    "    '''\n",
    "    高速フーリエ変換\n",
    "    '''\n",
    "    xfft = np.fft.fft(a, n=None, axis=-1, norm=None)\n",
    "    xfft[wave:(-1)*wave]=0\n",
    "    if bias:\n",
    "        xfft[0]=0\n",
    "    xifft = np.fft.ifft(xfft)\n",
    "    return xifft.real"
   ]
  },
  {
   "cell_type": "code",
   "execution_count": null,
   "metadata": {},
   "outputs": [],
   "source": [
    "## みなさんがやるところ ##\n",
    "## データの確認\n",
    "fig ,(a1,a2) = plt.subplots(ncols=2,figsize=(10,5))\n",
    "a1.plot(datOEv[:,0],datOEv[:,1])\n",
    "a2.plot(datCEv[:,0],datCEv[:,1])"
   ]
  },
  {
   "cell_type": "code",
   "execution_count": null,
   "metadata": {},
   "outputs": [],
   "source": [
    "## みなさんがやるところ ##\n",
    "## 縦と横のスケールを揃える。色を変える。\n",
    "v =[datOEv[:,0],datOEv[:,1],datCEv[:,0],datCEv[:,1]]\n",
    "vmin = list(map(min,v))\n",
    "vmax = list(map(max,v))\n",
    "vv = list(map(abs,vmin+vmax))\n",
    "vvm= np.ceil(max(vv))\n",
    "figscale = [-vvm,vvm]"
   ]
  },
  {
   "cell_type": "code",
   "execution_count": null,
   "metadata": {},
   "outputs": [],
   "source": [
    "## みなさんがやるところ ##\n",
    "# 綺麗に図を仕上げる。\n",
    "fig ,(a1,a2) = plt.subplots(ncols=2,figsize=(10,5))\n",
    "a1.grid()\n",
    "a2.grid()\n",
    "a1.plot(datOEv[:,0],datOEv[:,1],c=\"red\")\n",
    "a2.plot(datCEv[:,0],datCEv[:,1],c=\"blue\")\n",
    "a1.set_xlim(figscale)\n",
    "a1.set_ylim(figscale)\n",
    "a2.set_xlim(figscale)\n",
    "a2.set_ylim(figscale)\n",
    "a1.set_title(\"The case of Opened Eye\")\n",
    "a2.set_title(\"The case of Closed Eye\")\n",
    "plt.savefig(\"result_fig.png\")"
   ]
  },
  {
   "cell_type": "markdown",
   "metadata": {},
   "source": [
    "### 総軌跡長"
   ]
  },
  {
   "cell_type": "markdown",
   "metadata": {},
   "source": [
    "あるxy座標系（デカルト座標系）にある点aと点bの間距離$d$は，<br>\n",
    "\n",
    "\n",
    "$d=\\sqrt{(x_a-x_b)^2+(y_a-y_b)^2}$ <br>\n",
    "\n",
    "\n",
    "として，求めることができる。"
   ]
  },
  {
   "cell_type": "code",
   "execution_count": null,
   "metadata": {},
   "outputs": [],
   "source": [
    "## みなさんがやるところ ##\n",
    "## 上の図をみながら・・・\n",
    "## 総軌跡長\n",
    "# 開眼のとき\n",
    "datall = np.diff(datOEv,axis=0)                    #差分をとる\n",
    "distance = datall*datall                               #2乗する\n",
    "dist1 = np.sqrt(np.sum(distance,axis=1))    #平方根をとる\n",
    "result1 = np.sum(dist1)                              #最後に合計する\n",
    "## 結果はresult1に格納されている。\n",
    "print(np.round(result1,2))"
   ]
  },
  {
   "cell_type": "code",
   "execution_count": null,
   "metadata": {},
   "outputs": [],
   "source": [
    "## みなさんがやるところ ##\n",
    "## 上の図をみながら・・・\n",
    "## 総軌跡長\n",
    "# 閉眼のとき\n",
    "datallc = np.diff(datCEv,axis=0)                    #差分をとる\n",
    "distance2 = datallc*datallc                              #2乗する\n",
    "dist2 = np.sqrt(np.sum(distance2,axis=1))    #平方根をとる\n",
    "result2 = np.sum(dist2)                              #最後に合計する\n",
    "## 結果はresult2に格納されている。\n",
    "print(np.round(result2,2))"
   ]
  },
  {
   "cell_type": "markdown",
   "metadata": {},
   "source": [
    "### 矩形面積"
   ]
  },
  {
   "cell_type": "code",
   "execution_count": null,
   "metadata": {},
   "outputs": [],
   "source": [
    "## みなさんがやるところ ##\n",
    "## 矩形面積\n",
    "## 開眼のとき\n",
    "# x軸方向，y軸方向の最大値と最小値を求める\n",
    "val1 = np.max(datOEv,axis=0)-np.min(datOEv,axis=0)\n",
    "val2 = val1[0]*val1[1]\n",
    "print(np.round(val2,2))"
   ]
  },
  {
   "cell_type": "code",
   "execution_count": null,
   "metadata": {},
   "outputs": [],
   "source": [
    "## みなさんがやるところ ##\n",
    "## 矩形面積\n",
    "## 閉眼のとき\n",
    "# x軸方向，y軸方向の最大値と最小値を求める\n",
    "val3 = np.max(datCEv,axis=0)-np.min(datOEv,axis=0)\n",
    "val4 = val3[0]*val3[1]\n",
    "print(np.round(val4,2))"
   ]
  },
  {
   "cell_type": "markdown",
   "metadata": {},
   "source": [
    "## 計測結果のまとめ<br>\n",
    "[図の表示](result_fig.png)<br>"
   ]
  },
  {
   "cell_type": "markdown",
   "metadata": {},
   "source": [
    "|／|総軌跡長|矩形面積|\n",
    "|----|-----|-------|\n",
    "|開眼|37.84|5.35|\n",
    "|閉眼|44.05|5.91|"
   ]
  },
  {
   "cell_type": "markdown",
   "metadata": {},
   "source": [
    "## 考察"
   ]
  },
  {
   "cell_type": "markdown",
   "metadata": {},
   "source": [
    "<font color=\"blue\">(自分で書く)　</font>"
   ]
  }
 ],
 "metadata": {
  "hide_input": false,
  "kernelspec": {
   "display_name": "Python 3",
   "language": "python",
   "name": "python3"
  },
  "language_info": {
   "codemirror_mode": {
    "name": "ipython",
    "version": 3
   },
   "file_extension": ".py",
   "mimetype": "text/x-python",
   "name": "python",
   "nbconvert_exporter": "python",
   "pygments_lexer": "ipython3",
   "version": "3.6.8"
  },
  "latex_envs": {
   "LaTeX_envs_menu_present": true,
   "autoclose": false,
   "autocomplete": true,
   "bibliofile": "biblio.bib",
   "cite_by": "apalike",
   "current_citInitial": 1,
   "eqLabelWithNumbers": true,
   "eqNumInitial": 1,
   "hotkeys": {
    "equation": "Ctrl-E",
    "itemize": "Ctrl-I"
   },
   "labels_anchors": false,
   "latex_user_defs": false,
   "report_style_numbering": false,
   "user_envs_cfg": false
  },
  "toc": {
   "base_numbering": "",
   "nav_menu": {},
   "number_sections": false,
   "sideBar": true,
   "skip_h1_title": false,
   "title_cell": "立位時における重心動揺計を用いた身体動揺の計測",
   "title_sidebar": "Contents",
   "toc_cell": true,
   "toc_position": {},
   "toc_section_display": true,
   "toc_window_display": false
  }
 },
 "nbformat": 4,
 "nbformat_minor": 2
}
