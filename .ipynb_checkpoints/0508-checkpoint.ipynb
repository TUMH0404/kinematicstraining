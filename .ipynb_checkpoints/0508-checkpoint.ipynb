{
 "cells": [
  {
   "cell_type": "code",
   "execution_count": 1,
   "metadata": {},
   "outputs": [],
   "source": [
    "## ライブラリのインポート ##\n",
    "import os\n",
    "import numpy as np\n",
    "from sklearn.decomposition import PCA\n",
    "import matplotlib.pyplot as plt\n"
   ]
  },
  {
   "cell_type": "code",
   "execution_count": 14,
   "metadata": {},
   "outputs": [],
   "source": [
    "\n",
    "## テキストデータをnumpy形式に変換する(解析のための下準備) ##\n",
    "###  必ず使用する  ###\n",
    "def Text2Numpy(**args):\n",
    "    \"\"\"\n",
    "    大学にある重心動揺計の計測データ（csv）を取り込み，pythonで処理しやすいように変換するための関数\n",
    "    filename:処理したいファイル名\n",
    "    \"\"\"    \n",
    "    ## データを開く ##\n",
    "    with open(args[\"filename\"],\"r\",encoding=\"shift-jis\") as dat:\n",
    "        datacop= dat.read()\n",
    "\n",
    "    ## 書き出し先を作る ##\n",
    "    COPdata = {\"ID\":None,\"sex\":None,\"age\":None,\"height\":None,\"weight\":None,\"cop\":[]}\n",
    "    attribute = {\"ID\":0,\"sex\":2,\"age\":3,\"height\":4,\"weight\":5}\n",
    "    ## 処理1 ##\n",
    "    ### データの整理 ###\n",
    "    d0 = datacop.split(\"\\n\") # スプリット\n",
    "    COPdata[\"ID\"] = d0[attribute[\"ID\"]].split(\",\")[1][1:-1]# IDの取り出し\n",
    "    COPdata[\"sex\"] = d0[attribute[\"sex\"]].split(\",\")[1][1:-1]# 性別の取り出し\n",
    "    COPdata[\"age\"] = (d0[attribute[\"age\"]].split(\",\")[1][1:-1])# 年齢の取り出し\n",
    "    COPdata[\"height\"] = (d0[attribute[\"height\"]].split(\",\")[1][1:-1])# 身長の取り出し\n",
    "    COPdata[\"weight\"] = (d0[attribute[\"weight\"]].split(\",\")[1][1:-1])# 体重の取り出し\n",
    "\n",
    "    for i in d0[7:]:\n",
    "        if len(i)==0:\n",
    "            break\n",
    "            \n",
    "        nn = i.split(\",\")\n",
    "        if args[\"Weightshow\"]==True:\n",
    "            ww = nn[0:3]+[nn[5]]\n",
    "        else:\n",
    "            ww = nn[0:3]\n",
    "            \n",
    "        COPdata[\"cop\"].append(list(map(float,ww)))\n",
    "\n",
    "    COPdata[\"cop\"] = np.array(COPdata[\"cop\"])\n",
    "    \n",
    "    ## 処理1完了 ##\n",
    "    return COPdata"
   ]
  },
  {
   "cell_type": "code",
   "execution_count": 18,
   "metadata": {},
   "outputs": [],
   "source": [
    "A = Text2Numpy(filename=\"./Sample/Weight10/pt0419_1.csv\",Weightshow=True)"
   ]
  },
  {
   "cell_type": "code",
   "execution_count": 19,
   "metadata": {},
   "outputs": [
    {
     "data": {
      "text/plain": [
       "dict_keys(['ID', 'sex', 'age', 'height', 'weight', 'cop'])"
      ]
     },
     "execution_count": 19,
     "metadata": {},
     "output_type": "execute_result"
    }
   ],
   "source": [
    "A.keys()"
   ]
  },
  {
   "cell_type": "code",
   "execution_count": 20,
   "metadata": {},
   "outputs": [
    {
     "data": {
      "text/plain": [
       "array([[ 0.0000e+00, -6.1000e-02,  1.3160e+00,  1.0009e+01],\n",
       "       [ 1.0000e-02, -6.1000e-02,  1.3160e+00,  1.0009e+01],\n",
       "       [ 2.0000e-02, -6.1000e-02,  1.3160e+00,  1.0009e+01],\n",
       "       ...,\n",
       "       [ 5.9980e+01, -4.9000e-02,  1.3080e+00,  1.0014e+01],\n",
       "       [ 5.9990e+01, -4.9000e-02,  1.3080e+00,  1.0014e+01],\n",
       "       [ 6.0000e+01, -4.9000e-02,  1.3080e+00,  1.0014e+01]])"
      ]
     },
     "execution_count": 20,
     "metadata": {},
     "output_type": "execute_result"
    }
   ],
   "source": [
    "A[\"cop\"]"
   ]
  },
  {
   "cell_type": "code",
   "execution_count": null,
   "metadata": {},
   "outputs": [],
   "source": []
  }
 ],
 "metadata": {
  "hide_input": false,
  "kernelspec": {
   "display_name": "Python 3",
   "language": "python",
   "name": "python3"
  },
  "language_info": {
   "codemirror_mode": {
    "name": "ipython",
    "version": 3
   },
   "file_extension": ".py",
   "mimetype": "text/x-python",
   "name": "python",
   "nbconvert_exporter": "python",
   "pygments_lexer": "ipython3",
   "version": "3.6.7"
  },
  "latex_envs": {
   "LaTeX_envs_menu_present": true,
   "autoclose": false,
   "autocomplete": true,
   "bibliofile": "biblio.bib",
   "cite_by": "apalike",
   "current_citInitial": 1,
   "eqLabelWithNumbers": true,
   "eqNumInitial": 1,
   "hotkeys": {
    "equation": "Ctrl-E",
    "itemize": "Ctrl-I"
   },
   "labels_anchors": false,
   "latex_user_defs": false,
   "report_style_numbering": false,
   "user_envs_cfg": false
  },
  "toc": {
   "base_numbering": 1,
   "nav_menu": {},
   "number_sections": true,
   "sideBar": true,
   "skip_h1_title": false,
   "title_cell": "Table of Contents",
   "title_sidebar": "Contents",
   "toc_cell": false,
   "toc_position": {},
   "toc_section_display": true,
   "toc_window_display": false
  }
 },
 "nbformat": 4,
 "nbformat_minor": 2
}
