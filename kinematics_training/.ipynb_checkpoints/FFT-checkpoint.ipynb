{
 "cells": [
  {
   "cell_type": "markdown",
   "metadata": {},
   "source": [
    "# サンプリング周波数について\n",
    "音声などのアナログ波形をデジタルデータにするために必要な処理である標本化（サンプリング）で，単位時間当たりに標本を採る頻度。単位は**Hz**が一般的であるが，sps(sample per second)を使うこともある。<br>\n",
    "同時に，サンプリング間隔もわかる。サンプリング間隔とは，サンプル間の時間差のことである。例えば，サンプリング周波数が100Hzの場合，サンプリング間隔は10msec(0.01sec)である。"
   ]
  },
  {
   "cell_type": "code",
   "execution_count": null,
   "metadata": {},
   "outputs": [],
   "source": [
    "import numpy as np\n",
    "import matplotlib.pyplot as plt\n",
    "%matplotlib inline"
   ]
  },
  {
   "cell_type": "code",
   "execution_count": null,
   "metadata": {
    "scrolled": false
   },
   "outputs": [],
   "source": [
    "fig = plt.figure(figsize=(9,4))\n",
    "plt.plot(np.linspace(0,1,10000),np.sin(np.linspace(0,2*np.pi,10000)),color='k')\n",
    "plt.title(\"analog data of sine curve\")\n",
    "for i in range(1,11):\n",
    "    pp = np.linspace(0,2*np.pi,10*i)\n",
    "    time = np.linspace(0,1,10*i)\n",
    "    a = np.sin(pp)\n",
    "    fig = plt.figure(figsize=(9,4))\n",
    "    plt.scatter(time,a,s=6,c=\"k\")\n",
    "    plt.title(f\"{10*i} Hz\")"
   ]
  },
  {
   "cell_type": "markdown",
   "metadata": {},
   "source": [
    "# 問題\n",
    "サンプル周波数が100Hzの場合，一秒間に何個のデータがあるか？<br>\n",
    "ある生体情報を5秒間計測した。そのときのデータ数が250個であった。サンプリング周波数(Hz)はいくらか？<br>\n",
    "サンプリング間隔(msec)はいくらか？"
   ]
  },
  {
   "cell_type": "markdown",
   "metadata": {},
   "source": [
    "# フィルタリングの原理\n",
    "プリズムでは可視光線が虹色に分類される。ばらばらな周波数が合成されて光となっているが，周波数ごとに分けることで周波数に特化した色が集まり表れ，その色が見える。<br>\n",
    "時系列のデータでも同じようなことがおきていると仮定して，フィルタリングを行う。"
   ]
  },
  {
   "cell_type": "code",
   "execution_count": null,
   "metadata": {},
   "outputs": [],
   "source": [
    "N=2**11   # data number\n",
    "dt = 0.01  # sampling distance\n",
    "f1,f2 = 10,30   # freqency\n",
    "t = np.arange(0,N*dt,dt)   # time\n",
    "freq = np.linspace(0,1.0/dt,N)  # Hz\n",
    "f=np.sin(2*np.pi*f1*t)+np.sin(2*np.pi*f2*t)+0.3*np.random.randn(N) # data"
   ]
  },
  {
   "cell_type": "code",
   "execution_count": null,
   "metadata": {},
   "outputs": [],
   "source": [
    "plt.plot(f[:100])"
   ]
  },
  {
   "cell_type": "code",
   "execution_count": null,
   "metadata": {
    "scrolled": true
   },
   "outputs": [],
   "source": [
    "plt.plot(freq,np.abs(np.fft.fft(f)))"
   ]
  },
  {
   "cell_type": "code",
   "execution_count": null,
   "metadata": {
    "scrolled": true
   },
   "outputs": [],
   "source": [
    "plt.plot(np.abs(np.fft.fft(f)))"
   ]
  },
  {
   "cell_type": "code",
   "execution_count": null,
   "metadata": {},
   "outputs": [],
   "source": [
    "wave = 200\n",
    "ffti = np.fft.fft(f)\n",
    "ffti[wave:-wave] = 0\n",
    "fftr = np.fft.ifft(ffti)\n",
    "freq[wave]"
   ]
  },
  {
   "cell_type": "code",
   "execution_count": null,
   "metadata": {},
   "outputs": [],
   "source": [
    "plt.plot(t[:100],f[:100])\n",
    "plt.plot(t[:100],fftr[:100].real)"
   ]
  }
 ],
 "metadata": {
  "hide_input": false,
  "kernelspec": {
   "display_name": "Python 3",
   "language": "python",
   "name": "python3"
  },
  "language_info": {
   "codemirror_mode": {
    "name": "ipython",
    "version": 3
   },
   "file_extension": ".py",
   "mimetype": "text/x-python",
   "name": "python",
   "nbconvert_exporter": "python",
   "pygments_lexer": "ipython3",
   "version": "3.6.7"
  },
  "toc": {
   "base_numbering": 1,
   "nav_menu": {},
   "number_sections": true,
   "sideBar": true,
   "skip_h1_title": false,
   "title_cell": "Table of Contents",
   "title_sidebar": "Contents",
   "toc_cell": false,
   "toc_position": {
    "height": "calc(100% - 180px)",
    "left": "10px",
    "top": "150px",
    "width": "183.063px"
   },
   "toc_section_display": true,
   "toc_window_display": true
  }
 },
 "nbformat": 4,
 "nbformat_minor": 2
}
