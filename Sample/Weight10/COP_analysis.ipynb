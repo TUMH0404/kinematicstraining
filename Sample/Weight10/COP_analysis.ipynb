{
 "cells": [
  {
   "cell_type": "code",
   "execution_count": 1,
   "metadata": {},
   "outputs": [],
   "source": [
    "import pandas as pd\n",
    "import matplotlib.pyplot as plt\n",
    "import numpy as np\n",
    "%matplotlib inline\n",
    "import glob\n",
    "import scipy.stats as stats\n"
   ]
  },
  {
   "cell_type": "code",
   "execution_count": 2,
   "metadata": {},
   "outputs": [],
   "source": [
    "file = glob.glob(\"*.csv\")"
   ]
  },
  {
   "cell_type": "code",
   "execution_count": 3,
   "metadata": {},
   "outputs": [],
   "source": [
    "file.sort()"
   ]
  },
  {
   "cell_type": "code",
   "execution_count": 4,
   "metadata": {},
   "outputs": [
    {
     "data": {
      "text/plain": [
       "['pt0419_1.csv', 'pt0419_2.csv', 'pt0419_3.csv']"
      ]
     },
     "execution_count": 4,
     "metadata": {},
     "output_type": "execute_result"
    }
   ],
   "source": [
    "file"
   ]
  },
  {
   "cell_type": "code",
   "execution_count": 5,
   "metadata": {},
   "outputs": [],
   "source": [
    "dat = pd.read_csv(file[1],encoding=\"shift-jis\",skiprows=6)"
   ]
  },
  {
   "cell_type": "code",
   "execution_count": 6,
   "metadata": {
    "scrolled": false
   },
   "outputs": [
    {
     "data": {
      "text/html": [
       "<div>\n",
       "<style scoped>\n",
       "    .dataframe tbody tr th:only-of-type {\n",
       "        vertical-align: middle;\n",
       "    }\n",
       "\n",
       "    .dataframe tbody tr th {\n",
       "        vertical-align: top;\n",
       "    }\n",
       "\n",
       "    .dataframe thead th {\n",
       "        text-align: right;\n",
       "    }\n",
       "</style>\n",
       "<table border=\"1\" class=\"dataframe\">\n",
       "  <thead>\n",
       "    <tr style=\"text-align: right;\">\n",
       "      <th></th>\n",
       "      <th>時間(秒)</th>\n",
       "      <th>総合COP左右X(cm)</th>\n",
       "      <th>総合COP前後Y(cm)</th>\n",
       "      <th>左プレートCOP左右X(cm)</th>\n",
       "      <th>左プレートCOP前後Y(cm)</th>\n",
       "      <th>左荷重(kgf)</th>\n",
       "      <th>右プレートCOP左右X(cm)</th>\n",
       "      <th>右プレートCOP前後Y(cm)</th>\n",
       "      <th>右荷重(kgf)</th>\n",
       "      <th>Unnamed: 9</th>\n",
       "      <th>Unnamed: 10</th>\n",
       "      <th>Unnamed: 11</th>\n",
       "      <th>Unnamed: 12</th>\n",
       "    </tr>\n",
       "  </thead>\n",
       "  <tbody>\n",
       "    <tr>\n",
       "      <th>0</th>\n",
       "      <td>0.00</td>\n",
       "      <td>0.572</td>\n",
       "      <td>1.412</td>\n",
       "      <td>---.---</td>\n",
       "      <td>---.---</td>\n",
       "      <td>10.028</td>\n",
       "      <td>---.---</td>\n",
       "      <td>---.---</td>\n",
       "      <td>---.---</td>\n",
       "      <td>NaN</td>\n",
       "      <td>NaN</td>\n",
       "      <td>NaN</td>\n",
       "      <td>NaN</td>\n",
       "    </tr>\n",
       "    <tr>\n",
       "      <th>1</th>\n",
       "      <td>0.01</td>\n",
       "      <td>0.572</td>\n",
       "      <td>1.412</td>\n",
       "      <td>---.---</td>\n",
       "      <td>---.---</td>\n",
       "      <td>10.028</td>\n",
       "      <td>---.---</td>\n",
       "      <td>---.---</td>\n",
       "      <td>---.---</td>\n",
       "      <td>NaN</td>\n",
       "      <td>NaN</td>\n",
       "      <td>NaN</td>\n",
       "      <td>NaN</td>\n",
       "    </tr>\n",
       "    <tr>\n",
       "      <th>2</th>\n",
       "      <td>0.02</td>\n",
       "      <td>0.572</td>\n",
       "      <td>1.412</td>\n",
       "      <td>---.---</td>\n",
       "      <td>---.---</td>\n",
       "      <td>10.028</td>\n",
       "      <td>---.---</td>\n",
       "      <td>---.---</td>\n",
       "      <td>---.---</td>\n",
       "      <td>NaN</td>\n",
       "      <td>NaN</td>\n",
       "      <td>NaN</td>\n",
       "      <td>NaN</td>\n",
       "    </tr>\n",
       "    <tr>\n",
       "      <th>3</th>\n",
       "      <td>0.03</td>\n",
       "      <td>0.572</td>\n",
       "      <td>1.412</td>\n",
       "      <td>---.---</td>\n",
       "      <td>---.---</td>\n",
       "      <td>10.028</td>\n",
       "      <td>---.---</td>\n",
       "      <td>---.---</td>\n",
       "      <td>---.---</td>\n",
       "      <td>NaN</td>\n",
       "      <td>NaN</td>\n",
       "      <td>NaN</td>\n",
       "      <td>NaN</td>\n",
       "    </tr>\n",
       "    <tr>\n",
       "      <th>4</th>\n",
       "      <td>0.04</td>\n",
       "      <td>0.572</td>\n",
       "      <td>1.412</td>\n",
       "      <td>---.---</td>\n",
       "      <td>---.---</td>\n",
       "      <td>10.028</td>\n",
       "      <td>---.---</td>\n",
       "      <td>---.---</td>\n",
       "      <td>---.---</td>\n",
       "      <td>NaN</td>\n",
       "      <td>NaN</td>\n",
       "      <td>NaN</td>\n",
       "      <td>NaN</td>\n",
       "    </tr>\n",
       "  </tbody>\n",
       "</table>\n",
       "</div>"
      ],
      "text/plain": [
       "   時間(秒)  総合COP左右X(cm)  総合COP前後Y(cm) 左プレートCOP左右X(cm) 左プレートCOP前後Y(cm)  \\\n",
       "0   0.00         0.572         1.412         ---.---         ---.---   \n",
       "1   0.01         0.572         1.412         ---.---         ---.---   \n",
       "2   0.02         0.572         1.412         ---.---         ---.---   \n",
       "3   0.03         0.572         1.412         ---.---         ---.---   \n",
       "4   0.04         0.572         1.412         ---.---         ---.---   \n",
       "\n",
       "   左荷重(kgf) 右プレートCOP左右X(cm) 右プレートCOP前後Y(cm) 右荷重(kgf)  Unnamed: 9  Unnamed: 10  \\\n",
       "0    10.028         ---.---         ---.---  ---.---         NaN          NaN   \n",
       "1    10.028         ---.---         ---.---  ---.---         NaN          NaN   \n",
       "2    10.028         ---.---         ---.---  ---.---         NaN          NaN   \n",
       "3    10.028         ---.---         ---.---  ---.---         NaN          NaN   \n",
       "4    10.028         ---.---         ---.---  ---.---         NaN          NaN   \n",
       "\n",
       "   Unnamed: 11  Unnamed: 12  \n",
       "0          NaN          NaN  \n",
       "1          NaN          NaN  \n",
       "2          NaN          NaN  \n",
       "3          NaN          NaN  \n",
       "4          NaN          NaN  "
      ]
     },
     "execution_count": 6,
     "metadata": {},
     "output_type": "execute_result"
    }
   ],
   "source": [
    "dat.head()"
   ]
  },
  {
   "cell_type": "code",
   "execution_count": 7,
   "metadata": {},
   "outputs": [
    {
     "data": {
      "text/html": [
       "<div>\n",
       "<style scoped>\n",
       "    .dataframe tbody tr th:only-of-type {\n",
       "        vertical-align: middle;\n",
       "    }\n",
       "\n",
       "    .dataframe tbody tr th {\n",
       "        vertical-align: top;\n",
       "    }\n",
       "\n",
       "    .dataframe thead th {\n",
       "        text-align: right;\n",
       "    }\n",
       "</style>\n",
       "<table border=\"1\" class=\"dataframe\">\n",
       "  <thead>\n",
       "    <tr style=\"text-align: right;\">\n",
       "      <th></th>\n",
       "      <th>時間(秒)</th>\n",
       "      <th>総合COP左右X(cm)</th>\n",
       "      <th>総合COP前後Y(cm)</th>\n",
       "      <th>左プレートCOP左右X(cm)</th>\n",
       "      <th>左プレートCOP前後Y(cm)</th>\n",
       "      <th>左荷重(kgf)</th>\n",
       "      <th>右プレートCOP左右X(cm)</th>\n",
       "      <th>右プレートCOP前後Y(cm)</th>\n",
       "      <th>右荷重(kgf)</th>\n",
       "      <th>Unnamed: 9</th>\n",
       "      <th>Unnamed: 10</th>\n",
       "      <th>Unnamed: 11</th>\n",
       "      <th>Unnamed: 12</th>\n",
       "    </tr>\n",
       "  </thead>\n",
       "  <tbody>\n",
       "    <tr>\n",
       "      <th>5996</th>\n",
       "      <td>59.96</td>\n",
       "      <td>0.572</td>\n",
       "      <td>1.412</td>\n",
       "      <td>---.---</td>\n",
       "      <td>---.---</td>\n",
       "      <td>10.028</td>\n",
       "      <td>---.---</td>\n",
       "      <td>---.---</td>\n",
       "      <td>---.---</td>\n",
       "      <td>NaN</td>\n",
       "      <td>NaN</td>\n",
       "      <td>NaN</td>\n",
       "      <td>NaN</td>\n",
       "    </tr>\n",
       "    <tr>\n",
       "      <th>5997</th>\n",
       "      <td>59.97</td>\n",
       "      <td>0.572</td>\n",
       "      <td>1.412</td>\n",
       "      <td>---.---</td>\n",
       "      <td>---.---</td>\n",
       "      <td>10.028</td>\n",
       "      <td>---.---</td>\n",
       "      <td>---.---</td>\n",
       "      <td>---.---</td>\n",
       "      <td>NaN</td>\n",
       "      <td>NaN</td>\n",
       "      <td>NaN</td>\n",
       "      <td>NaN</td>\n",
       "    </tr>\n",
       "    <tr>\n",
       "      <th>5998</th>\n",
       "      <td>59.98</td>\n",
       "      <td>0.572</td>\n",
       "      <td>1.412</td>\n",
       "      <td>---.---</td>\n",
       "      <td>---.---</td>\n",
       "      <td>10.028</td>\n",
       "      <td>---.---</td>\n",
       "      <td>---.---</td>\n",
       "      <td>---.---</td>\n",
       "      <td>NaN</td>\n",
       "      <td>NaN</td>\n",
       "      <td>NaN</td>\n",
       "      <td>NaN</td>\n",
       "    </tr>\n",
       "    <tr>\n",
       "      <th>5999</th>\n",
       "      <td>59.99</td>\n",
       "      <td>0.572</td>\n",
       "      <td>1.412</td>\n",
       "      <td>---.---</td>\n",
       "      <td>---.---</td>\n",
       "      <td>10.028</td>\n",
       "      <td>---.---</td>\n",
       "      <td>---.---</td>\n",
       "      <td>---.---</td>\n",
       "      <td>NaN</td>\n",
       "      <td>NaN</td>\n",
       "      <td>NaN</td>\n",
       "      <td>NaN</td>\n",
       "    </tr>\n",
       "    <tr>\n",
       "      <th>6000</th>\n",
       "      <td>60.00</td>\n",
       "      <td>0.572</td>\n",
       "      <td>1.412</td>\n",
       "      <td>---.---</td>\n",
       "      <td>---.---</td>\n",
       "      <td>10.028</td>\n",
       "      <td>---.---</td>\n",
       "      <td>---.---</td>\n",
       "      <td>---.---</td>\n",
       "      <td>NaN</td>\n",
       "      <td>NaN</td>\n",
       "      <td>NaN</td>\n",
       "      <td>NaN</td>\n",
       "    </tr>\n",
       "  </tbody>\n",
       "</table>\n",
       "</div>"
      ],
      "text/plain": [
       "      時間(秒)  総合COP左右X(cm)  総合COP前後Y(cm) 左プレートCOP左右X(cm) 左プレートCOP前後Y(cm)  \\\n",
       "5996  59.96         0.572         1.412         ---.---         ---.---   \n",
       "5997  59.97         0.572         1.412         ---.---         ---.---   \n",
       "5998  59.98         0.572         1.412         ---.---         ---.---   \n",
       "5999  59.99         0.572         1.412         ---.---         ---.---   \n",
       "6000  60.00         0.572         1.412         ---.---         ---.---   \n",
       "\n",
       "      左荷重(kgf) 右プレートCOP左右X(cm) 右プレートCOP前後Y(cm) 右荷重(kgf)  Unnamed: 9  \\\n",
       "5996    10.028         ---.---         ---.---  ---.---         NaN   \n",
       "5997    10.028         ---.---         ---.---  ---.---         NaN   \n",
       "5998    10.028         ---.---         ---.---  ---.---         NaN   \n",
       "5999    10.028         ---.---         ---.---  ---.---         NaN   \n",
       "6000    10.028         ---.---         ---.---  ---.---         NaN   \n",
       "\n",
       "      Unnamed: 10  Unnamed: 11  Unnamed: 12  \n",
       "5996          NaN          NaN          NaN  \n",
       "5997          NaN          NaN          NaN  \n",
       "5998          NaN          NaN          NaN  \n",
       "5999          NaN          NaN          NaN  \n",
       "6000          NaN          NaN          NaN  "
      ]
     },
     "execution_count": 7,
     "metadata": {},
     "output_type": "execute_result"
    }
   ],
   "source": [
    "dat.tail()"
   ]
  },
  {
   "cell_type": "code",
   "execution_count": 8,
   "metadata": {},
   "outputs": [
    {
     "name": "stdout",
     "output_type": "stream",
     "text": [
      "0.5720000000000001\n",
      "0.5720000000000001\n"
     ]
    }
   ],
   "source": [
    "print(max(dat.iloc[:,1]))\n",
    "print(min(dat.iloc[:,1]))"
   ]
  },
  {
   "cell_type": "code",
   "execution_count": 9,
   "metadata": {
    "scrolled": true
   },
   "outputs": [
    {
     "data": {
      "text/plain": [
       "(array([   0.,    0.,    0.,    0.,    0., 6001.,    0.,    0.,    0.,\n",
       "           0.]),\n",
       " array([0.912, 1.012, 1.112, 1.212, 1.312, 1.412, 1.512, 1.612, 1.712,\n",
       "        1.812, 1.912]),\n",
       " <a list of 10 Patch objects>)"
      ]
     },
     "execution_count": 9,
     "metadata": {},
     "output_type": "execute_result"
    },
    {
     "data": {
      "image/png": "[encoded data removed]",
      "text/plain": [
       "<matplotlib.figure.Figure at 0x10ea8a8d0>"
      ]
     },
     "metadata": {},
     "output_type": "display_data"
    }
   ],
   "source": [
    "plt.hist(dat.iloc[:,2],bins=10)"
   ]
  },
  {
   "cell_type": "code",
   "execution_count": 10,
   "metadata": {},
   "outputs": [
    {
     "data": {
      "text/plain": [
       "[<matplotlib.lines.Line2D at 0x10ec671d0>]"
      ]
     },
     "execution_count": 10,
     "metadata": {},
     "output_type": "execute_result"
    },
    {
     "data": {
      "image/png": "[encoded data removed]",
      "text/plain": [
       "<matplotlib.figure.Figure at 0x1090fe518>"
      ]
     },
     "metadata": {},
     "output_type": "display_data"
    }
   ],
   "source": [
    "plt.plot(dat.iloc[1000:1300,2])"
   ]
  },
  {
   "cell_type": "code",
   "execution_count": 11,
   "metadata": {},
   "outputs": [
    {
     "data": {
      "text/plain": [
       "array({1.412}, dtype=object)"
      ]
     },
     "execution_count": 11,
     "metadata": {},
     "output_type": "execute_result"
    }
   ],
   "source": [
    "np.array(set(dat.iloc[:,2]))"
   ]
  },
  {
   "cell_type": "code",
   "execution_count": 12,
   "metadata": {},
   "outputs": [],
   "source": [
    "myd = dat.iloc[:,2].values"
   ]
  },
  {
   "cell_type": "code",
   "execution_count": 13,
   "metadata": {},
   "outputs": [
    {
     "data": {
      "image/png": "[encoded data removed]",
      "text/plain": [
       "<matplotlib.figure.Figure at 0x1090feb00>"
      ]
     },
     "metadata": {},
     "output_type": "display_data"
    }
   ],
   "source": [
    "plt.plot(np.abs(np.fft.fft(myd)[1:]));"
   ]
  },
  {
   "cell_type": "code",
   "execution_count": 14,
   "metadata": {},
   "outputs": [],
   "source": [
    "def FFT(a,wave,bias):\n",
    "    '''\n",
    "    高速フーリエ変換\n",
    "    '''\n",
    "    xfft = np.fft.fft(a, n=None, axis=-1, norm=None)\n",
    "    xfft[wave:(-1)*wave]=0\n",
    "    if bias:\n",
    "        xfft[0]=0\n",
    "    xifft = np.fft.ifft(xfft)\n",
    "    return xifft.real"
   ]
  },
  {
   "cell_type": "code",
   "execution_count": 15,
   "metadata": {},
   "outputs": [
    {
     "name": "stdout",
     "output_type": "stream",
     "text": [
      "[[0.572 1.412]\n",
      " [0.572 1.412]\n",
      " [0.572 1.412]\n",
      " ...\n",
      " [0.572 1.412]\n",
      " [0.572 1.412]\n",
      " [0.572 1.412]]\n",
      "12.0\n"
     ]
    }
   ],
   "source": [
    "myd = dat.iloc[:,1:3].values\n",
    "print(myd)\n",
    "if np.log2(myd.shape[0])*10%10!=0:\n",
    "    nn = np.log2(myd.shape[0])*10//10\n",
    "    print(nn)\n",
    "    myd = myd[0:(2**int(nn)+0),:]\n",
    "    \n",
    "ww = int(myd.shape[0]*5/(1/0.01))  ## データ数：１/サンプル間隔(Hz)＝波数:周波数(Hz)\n",
    "                                        # hz = np.linspace(0,1.0/samp,myd.shape[0])[wave]\n",
    "x = FFT(myd[:,1],ww,True)"
   ]
  },
  {
   "cell_type": "code",
   "execution_count": 16,
   "metadata": {},
   "outputs": [
    {
     "data": {
      "image/png": "[encoded data removed]",
      "text/plain": [
       "<matplotlib.figure.Figure at 0x10ed396d8>"
      ]
     },
     "metadata": {},
     "output_type": "display_data"
    }
   ],
   "source": [
    "plt.plot(np.abs(np.fft.fft(x)[1:]));"
   ]
  },
  {
   "cell_type": "code",
   "execution_count": 17,
   "metadata": {},
   "outputs": [
    {
     "data": {
      "text/plain": [
       "[<matplotlib.lines.Line2D at 0x10f02e668>]"
      ]
     },
     "execution_count": 17,
     "metadata": {},
     "output_type": "execute_result"
    },
    {
     "data": {
      "image/png": "[encoded data removed]",
      "text/plain": [
       "<matplotlib.figure.Figure at 0x10edc41d0>"
      ]
     },
     "metadata": {},
     "output_type": "display_data"
    }
   ],
   "source": [
    "plt.plot(x[:4000])"
   ]
  },
  {
   "cell_type": "code",
   "execution_count": 18,
   "metadata": {},
   "outputs": [
    {
     "data": {
      "text/plain": [
       "(array([   0.,    0.,    0.,    0.,    0., 4096.,    0.,    0.,    0.,\n",
       "           0.]),\n",
       " array([-0.5, -0.4, -0.3, -0.2, -0.1,  0. ,  0.1,  0.2,  0.3,  0.4,  0.5]),\n",
       " <a list of 10 Patch objects>)"
      ]
     },
     "execution_count": 18,
     "metadata": {},
     "output_type": "execute_result"
    },
    {
     "data": {
      "image/png": "[encoded data removed]",
      "text/plain": [
       "<matplotlib.figure.Figure at 0x10f0095f8>"
      ]
     },
     "metadata": {},
     "output_type": "display_data"
    }
   ],
   "source": [
    "plt.hist(x)"
   ]
  },
  {
   "cell_type": "code",
   "execution_count": 19,
   "metadata": {},
   "outputs": [
    {
     "data": {
      "image/png": "[encoded data removed]",
      "text/plain": [
       "<matplotlib.figure.Figure at 0x10f1fb048>"
      ]
     },
     "metadata": {},
     "output_type": "display_data"
    }
   ],
   "source": [
    "res = stats.probplot(x,dist=\"norm\",plot=plt)"
   ]
  },
  {
   "cell_type": "code",
   "execution_count": null,
   "metadata": {},
   "outputs": [],
   "source": []
  },
  {
   "cell_type": "code",
   "execution_count": 1,
   "metadata": {},
   "outputs": [
    {
     "data": {
      "text/plain": [
       "4096.0"
      ]
     },
     "execution_count": 1,
     "metadata": {},
     "output_type": "execute_result"
    }
   ],
   "source": [
    "pow(2,12.0)"
   ]
  },
  {
   "cell_type": "code",
   "execution_count": null,
   "metadata": {},
   "outputs": [],
   "source": []
  }
 ],
 "metadata": {
  "kernelspec": {
   "display_name": "Python 3",
   "language": "python",
   "name": "python3"
  },
  "language_info": {
   "codemirror_mode": {
    "name": "ipython",
    "version": 3
   },
   "file_extension": ".py",
   "mimetype": "text/x-python",
   "name": "python",
   "nbconvert_exporter": "python",
   "pygments_lexer": "ipython3",
   "version": "3.6.8"
  },
  "toc": {
   "base_numbering": 1,
   "nav_menu": {},
   "number_sections": true,
   "sideBar": true,
   "skip_h1_title": false,
   "title_cell": "Table of Contents",
   "title_sidebar": "Contents",
   "toc_cell": false,
   "toc_position": {},
   "toc_section_display": true,
   "toc_window_display": false
  }
 },
 "nbformat": 4,
 "nbformat_minor": 2
}
