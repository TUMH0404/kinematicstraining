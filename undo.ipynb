{
 "cells": [
  {
   "cell_type": "code",
   "execution_count": 2,
   "metadata": {},
   "outputs": [],
   "source": [
    "import numpy as np\n",
    "import cv2\n",
    "import os"
   ]
  },
  {
   "cell_type": "markdown",
   "metadata": {},
   "source": [
    "上の実行したときエラーが出る場合は・・・\n",
    "\n",
    "\n",
    "**cv2がインポートできない場合は、openCVが使えない環境であるので、[これ](https://qiita.com/fiftystorm36/items/1a285b5fbf99f8ac82eb)を参考にinstallする。**\n",
    "\n",
    "もしくは、\n",
    "```\n",
    "!pip install opencv-python\n",
    "```\n",
    "を新しいセルにコピペしてそのセルを実行する。ただし、wifiなどネットにつなげておく。\n",
    "\n",
    "そしてもう一度、上のセルを実行すると多分エラーはでない。その状態で以下の関数（プログラム）を使用する。"
   ]
  },
  {
   "cell_type": "code",
   "execution_count": null,
   "metadata": {},
   "outputs": [],
   "source": []
  },
  {
   "cell_type": "code",
   "execution_count": 5,
   "metadata": {},
   "outputs": [],
   "source": [
    "\n",
    "def To_Pictures(filename,todirename):\n",
    "    '''\n",
    "    動画を分割して指定したフォルダに保存する\n",
    "    filename:分割したいファイル名\n",
    "    todirename:分割したファイルが保存されるディレクトリ（フォルダ）\n",
    "    '''\n",
    "\n",
    "    if not os.path.exists(todirename):\n",
    "        os.mkdir(todirename)\n",
    "    \n",
    "    video = cv2.VideoCapture(filename)\n",
    "    frame_count = int(video.get(7))\n",
    "    \n",
    "    for i in range(frame_count):\n",
    "        _, frame=video.read()\n",
    "        cv2.imwrite(todirename+\"/\"+f'{i:05d}.png',frame)"
   ]
  },
  {
   "cell_type": "code",
   "execution_count": 4,
   "metadata": {},
   "outputs": [],
   "source": [
    "## webcameraを使った録画。\n",
    "## 終えるときはqを押す。\n",
    "\n",
    "## 録画するファイル名を決める。今回は\".avi\"形式で保存する\n",
    "file = \"output.avi\"\n",
    "\n",
    "## 接続する\n",
    "cap = cv2.VideoCapture(1)\n",
    "\n",
    "# 録画先の指定\n",
    "fourcc = cv2.VideoWriter_fourcc(*'XVID')\n",
    "out = cv2.VideoWriter(file,fourcc, 20.0, (640,480))\n",
    "\n",
    "## 本体部分 ##\n",
    "while(cap.isOpened()):\n",
    "    ret, frame = cap.read()\n",
    "    if ret==True:\n",
    "        #frame = cv2.flip(frame,1)\n",
    "\n",
    "        # write the flipped frame\n",
    "        out.write(frame)\n",
    "\n",
    "        cv2.imshow('frame',frame)\n",
    "        if cv2.waitKey(1) & 0xFF == ord('q'):\n",
    "            break\n",
    "    else:\n",
    "        break\n",
    "\n",
    "# 終わり\n",
    "cap.release()\n",
    "out.release()\n",
    "cv2.destroyAllWindows()\n",
    "\n",
    "\n"
   ]
  },
  {
   "cell_type": "code",
   "execution_count": 6,
   "metadata": {},
   "outputs": [],
   "source": [
    "## 動画の分割と分割した動画の保存\n",
    "To_Pictures(\"./output.avi\",\"C:/Users/tohni/Desktop/output7\")"
   ]
  },
  {
   "cell_type": "code",
   "execution_count": null,
   "metadata": {},
   "outputs": [],
   "source": []
  }
 ],
 "metadata": {
  "hide_input": false,
  "kernelspec": {
   "display_name": "Python 3",
   "language": "python",
   "name": "python3"
  },
  "language_info": {
   "codemirror_mode": {
    "name": "ipython",
    "version": 3
   },
   "file_extension": ".py",
   "mimetype": "text/x-python",
   "name": "python",
   "nbconvert_exporter": "python",
   "pygments_lexer": "ipython3",
   "version": "3.7.2"
  },
  "toc": {
   "base_numbering": 1,
   "nav_menu": {},
   "number_sections": true,
   "sideBar": true,
   "skip_h1_title": false,
   "title_cell": "Table of Contents",
   "title_sidebar": "Contents",
   "toc_cell": false,
   "toc_position": {},
   "toc_section_display": true,
   "toc_window_display": false
  }
 },
 "nbformat": 4,
 "nbformat_minor": 2
}
